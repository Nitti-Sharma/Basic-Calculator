{
 "cells": [
  {
   "cell_type": "code",
   "execution_count": 1,
   "id": "2acd57bb",
   "metadata": {},
   "outputs": [
    {
     "name": "stdout",
     "output_type": "stream",
     "text": [
      "Enter the Value:1 23\n",
      "Enter the Value:234\n",
      "Enter the Opr...+\n",
      "57\n"
     ]
    }
   ],
   "source": [
    "num1 = int(input(\"Enter the Value:1 \"))\n",
    "num2 = int (input(\"Enter the Value:2\"))\n",
    "opr = input(\"Enter the Opr...\")\n",
    "if opr ==\"+\":\n",
    "    print(num1+num2)\n",
    "elif opr ==\"-\":\n",
    "    print(num1-num2)\n",
    "elif opr ==\"*\":\n",
    "    print(num1*num2)\n",
    "elif opr==\"/\":\n",
    "    print(num1/num2)\n",
    "else :\n",
    "     print(\"invalid Opr......\")"
   ]
  }
 ],
 "metadata": {
  "kernelspec": {
   "display_name": "Python 3 (ipykernel)",
   "language": "python",
   "name": "python3"
  },
  "language_info": {
   "codemirror_mode": {
    "name": "ipython",
    "version": 3
   },
   "file_extension": ".py",
   "mimetype": "text/x-python",
   "name": "python",
   "nbconvert_exporter": "python",
   "pygments_lexer": "ipython3",
   "version": "3.9.12"
  }
 },
 "nbformat": 4,
 "nbformat_minor": 5
}
